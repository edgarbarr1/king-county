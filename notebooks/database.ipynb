{
 "cells": [
  {
   "cell_type": "code",
   "execution_count": 1,
   "metadata": {},
   "outputs": [
    {
     "name": "stderr",
     "output_type": "stream",
     "text": [
      "/Users/edgarbarron/opt/anaconda3/envs/project/lib/python3.8/site-packages/pandas/core/generic.py:2778: UserWarning: The spaces in these column names will not be changed. In pandas versions < 0.14, spaces were converted to underscores.\n",
      "  sql.to_sql(\n"
     ]
    }
   ],
   "source": [
    "# importing pandas\n",
    "import pandas as pd\n",
    "# importing sqlite\n",
    "import sqlite3\n",
    "# creating database, connection, and cursor\n",
    "conn = sqlite3.connect('data.db')  \n",
    "cur = conn.cursor()\n",
    "# creating query fetch function\n",
    "def fetcha(q):\n",
    "    return cur.execute(q).fetchall()\n",
    "# create paths to the files\n",
    "files = ['EXTR_RPSale.csv', 'EXTR_ResBldg.csv', 'EXTR_Parcel.csv', 'EXTR_LookUp.csv']\n",
    "paths = [f'../data/raw/{file}' for file in files]\n",
    "# create list of data frames importing data as strings\n",
    "dfs = [pd.read_csv(path, dtype=str) for path in paths]\n",
    "# create sales dataframe\n",
    "read_sale = pd.read_csv (paths[0], dtype=str)\n",
    "# Insert the values from the csv file into the table 'SALES' \n",
    "read_sale.to_sql('SALES', conn, if_exists='append', index = False)\n",
    "# create resbldg\n",
    "read_resb = pd.read_csv (paths[1], dtype=str)\n",
    "# Replace the values from the csv file into the table 'RESB'\n",
    "read_resb.to_sql('RESB', conn, if_exists='replace', index = False)\n",
    "# create parcel\n",
    "read_parc = pd.read_csv (paths[2], dtype=str)\n",
    "# Replace the values from the csv file into the table 'PARC'\n",
    "read_parc.to_sql('PARC', conn, if_exists='replace', index = False)\n",
    "# create lookup\n",
    "read_lookup = pd.read_csv(paths[3], dtype=str)\n",
    "#replace the values from the csv file into the table 'LOOKUP'\n",
    "read_lookup.to_sql('LOOKUP', conn, if_exists='replace', index = False)"
   ]
  },
  {
   "cell_type": "code",
   "execution_count": null,
   "metadata": {},
   "outputs": [],
   "source": []
  }
 ],
 "metadata": {
  "kernelspec": {
   "display_name": "Python 3",
   "language": "python",
   "name": "python3"
  },
  "language_info": {
   "codemirror_mode": {
    "name": "ipython",
    "version": 3
   },
   "file_extension": ".py",
   "mimetype": "text/x-python",
   "name": "python",
   "nbconvert_exporter": "python",
   "pygments_lexer": "ipython3",
   "version": "3.8.5"
  }
 },
 "nbformat": 4,
 "nbformat_minor": 4
}
